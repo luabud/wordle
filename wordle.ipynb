{
 "cells": [
  {
   "cell_type": "markdown",
   "metadata": {},
   "source": [
    "# Welcome to Wordle!\n",
    "\n",
    "To play the game, first run the cell below (`Ctrl + Alt + Enter` or `⌘ + ⌥ + Enter` ).\n",
    "\n"
   ]
  },
  {
   "cell_type": "code",
   "execution_count": null,
   "metadata": {},
   "outputs": [],
   "source": [
    "import random\n",
    "from base64 import b64decode\n",
    "\n",
    "encoded_words=[b'YWJhY2s=', b'YWJhc2U=', b'YWJhdGU=', b'YWJiZXk=', b'YWJ5c3M=', b'YWN1dGU=', b'YWRvYmU=', b'YWdhdGU=', b'YWdvcmE=', b'YWdyZWU=', b'YWxsb3c=', b'YWxvZnQ=', b'YWxvbmU=', b'YWx0YXI=', b'YXJndWU=', b'YXJvbWE=', b'YXNpZGU=', b'YXVkaXQ=', b'YXdha2U=', b'YmFkbHk=', b'YmFuYWw=', b'YmFzaWM=', b'YmF0b24=', b'YmF0dHk=', b'YmVsY2g=', b'YmVsbHk=', b'YmVuY2g=', b'YmlvbWU=', b'YmxlZWQ=', b'Ymxva2U=', b'Ymx1cnQ=', b'Ymx1c2g=', b'Ym9vYnk=', b'Ym9vc3Q=', b'Ym9venk=', b'YnJha2U=', b'YnJlYWs=', b'YnJpYXI=', b'YnJpYmU=', b'YnJpbmU=', b'YnJpbmc=', b'Y2F0ZXI=', b'Y2F1bGs=', b'Y2hhbXA=', b'Y2hhbnQ=', b'Y2hlYXQ=', b'Y2hlc3Q=', b'Y2hpbGw=', b'Y2hva2U=', b'Y2lnYXI=', b'Y2l2aWM=', b'Y2xpY2s=', b'Y2xvY2s=', b'Y2xvdGg=', b'Y2x1Y2s=', b'Y29hc3Q=', b'Y29sb24=', b'Y29tZXQ=', b'Y29uaWM=', b'Y29ybnk=', b'Y291bGQ=', b'Y3Jhbms=', b'Y3Jhc3M=', b'Y3JhdGU=', b'Y3JhemU=', b'Y3Jhenk=', b'Y3JpbXA=', b'Y3JvYWs=', b'Y3J1c3Q=', b'Y3luaWM=', b'ZGVhdGg=', b'ZGVsdGE=', b'ZGVwb3Q=', b'ZGlnaXQ=', b'ZG9kZ2U=', b'ZG93cnk=', b'ZG96ZW4=', b'ZHJhaW4=', b'ZHJpbms=', b'ZHVjaHk=', b'ZHV0Y2g=', b'ZHdhcmY=', b'ZWxkZXI=', b'ZW5lbWE=', b'ZXBvY2g=', b'ZXBveHk=', b'ZXJvZGU=', b'ZXJyb3I=', b'ZXNzYXk=', b'ZXZhZGU=', b'ZXh1bHQ=', b'ZmF2b3I=', b'ZmVpZ24=', b'ZmVycnk=', b'ZmV3ZXI=', b'ZmluZXI=', b'Zmlyc3Q=', b'Zml4ZXI=', b'ZmpvcmQ=', b'Zmxlc2g=', b'ZmxpY2s=', b'Zmxpbmc=', b'Zmxvc3M=', b'Zmx1bWU=', b'Zm9jYWw=', b'Zm9jdXM=', b'Zm9yZ2U=', b'Zm9ydGg=', b'Zm91bmQ=', b'ZnJhbWU=', b'ZnJlc2g=', b'ZnJvbnQ=', b'Z2FtbWE=', b'Z2F1ZHk=', b'Z29sZW0=', b'Z29uZXI=', b'Z29yZ2U=', b'Z291Z2U=', b'Z3JhZGU=', b'Z3JlYXQ=', b'Z3JlZXQ=', b'Z3JpbWU=', b'Z3JpcGU=', b'Z3JvaW4=', b'Z3JvdXA=', b'Z3Jvd2w=', b'Z3VpbGQ=', b'aGF0Y2g=', b'aGVhdGg=', b'aGVsaXg=', b'aGVyb24=', b'aG9hcmQ=', b'aHVtb3I=', b'aHVtcGg=', b'aHlwZXI=', b'aXNsZXQ=', b'aXZvcnk=', b'amF1bnQ=', b'a2FybWE=', b'a2ViYWI=', b'a25vbGw=', b'bGFib3I=', b'bGFwZWw=', b'bGFwc2U=', b'bGlnaHQ=', b'bGluZW4=', b'bG9vcHk=', b'bG93bHk=', b'bHVzdHk=', b'bHlpbmc=', b'bWFqb3I=', b'bWFycnk=', b'bWFzc2U=', b'bWF4aW0=', b'bWltaWM=', b'bW9kZWw=', b'bW9pc3Q=', b'bW9udGg=', b'bW90b3I=', b'bW91bHQ=', b'bW91bnQ=', b'bW91cm4=', b'bW92aWU=', b'bmFzdHk=', b'bmF0YWw=', b'bmF2YWw=', b'bnltcGg=', b'b2ZmYWw=', b'b3RoZXI=', b'b3VnaHQ=', b'b3V0ZG8=', b'cGFuZWw=', b'cGFuaWM=', b'cGFwZXI=', b'cGFycnk=', b'cGF1c2U=', b'cGVhY2g=', b'cGVyY2g=', b'cGVya3k=', b'cGlja3k=', b'cGlsb3Q=', b'cGl0aHk=', b'cGxlYXQ=', b'cGx1Y2s=', b'cG9pbnQ=', b'cG91bmQ=', b'cHJpY2s=', b'cHJpZGU=', b'cHJpbnQ=', b'cHJvdmU=', b'cHJveHk=', b'cHVscHk=', b'cHVyZ2U=', b'cXVlcnk=', b'cXVpZXQ=', b'cmFkaW8=', b'cmVhY3Q=', b'cmVidXM=', b'cmVidXhcnQ=', b'c3RlZWQ=', b'c3Rpbms=', b'c3Rvb2w=', b'c3RvcmU=', b'c3RvdXQ=', b'c3RvdmU=', b'c3VnYXI=', b'c3VyZXI=', b'c3dlZXQ=', b'c3dpbGw=', b'c3dpcmw=', b'dGFjaXQ=', b'dGFuZ3k=', b'dGFwaXI=', b'dGVhc2U=', b'dGhlaXI=', b'dGhvcm4=', b'dGhvc2U=', b'dGh1bWI=', b'dGlnZXI=', b'dGlsZGU=', b'dG9kYXk=', b'dG90ZW0=', b'dHJhY2U=', b'dHJhd2w=', b'dHJpYWQ=', b'dHJvbGw=', b'dHJvcGU=', b'dHJvdmU=', b'dHJ1c3M=', b'dHdlZWQ=', b'dWxjZXI=', b'dWx0cmE=', b'dW5mZWQ=', b'dW5pZnk=', b'dW5tZXQ=', b'dXNoZXI=', b'dXNpbmc=', b'dmlyYWw=', b'dml0YWw=', b'dml2aWQ=', b'dm9ka2E=', b'd2F0Y2g=', b'd2Vhcnk=', b'd2hhY2s=', b'd2hlbHA=', b'd2luY2U=', b'd29vZXI=', b'd29ybGQ=', b'd3JvdGU=', b'd3J1bmc=', b'eWVhcm4=']\n",
    "\n",
    "GAME_LENGTH=5\n",
    "\n",
    "turn_number=0\n",
    "\n",
    "previous_guesses = {i+1 : \"\" for i in range(GAME_LENGTH)}\n",
    "\n",
    "answer_word = str(b64decode(random.choice(encoded_words)), \"utf-8\")\n",
    "\n",
    "def game_over(status):\n",
    "    if status == \"win\":\n",
    "        print(\"Congratulations, you guessed it right!\")\n",
    "    else:\n",
    "        print(f\"Sorry, you lost. The right word was {answer_word}.\")\n",
    "    \n",
    "    turn_number=0\n",
    "    return \n",
    "\n",
    "def wrong_guess_length(guess_word):\n",
    "    if(len(guess_word) < 5):\n",
    "        print(\"Not enough characters.\")\n",
    "    else:\n",
    "        print(\"Too many characters.\")\n",
    "    print(\"Try a guess with 5 letters.\")\n",
    "\n",
    "def is_right_guess(guess, word):\n",
    "    return guess == word\n",
    "\n",
    "def print_output(guess_word, green_letters, yellow_letters, gray_letters):\n",
    "    output = \"\"\n",
    "    for i, g in enumerate(guess_word):\n",
    "        pair = i, g\n",
    "        if pair in green_letters:\n",
    "            output = output + \" \" + g \n",
    "        elif pair in yellow_letters:\n",
    "            output = output + \" (\" + g + \")\"\n",
    "        else:\n",
    "            output = output + \" _\"\n",
    "\n",
    "    previous_guesses[turn_number] = output\n",
    "    for i in previous_guesses.keys():\n",
    "        print(f\"{i} : {previous_guesses[i]}\")\n",
    "\n",
    "def guess_word(guess_word):\n",
    "    \n",
    "    if len(guess_word) != 5:\n",
    "        return wrong_guess_length(guess_word)\n",
    "\n",
    "    global turn_number\n",
    "    turn_number += 1\n",
    "    \n",
    "    if turn_number > GAME_LENGTH:\n",
    "        return game_over(\"lose\")\n",
    "    \n",
    "    answer_pairs = set(enumerate(answer_word))\n",
    "    guess_pairs = set(enumerate(guess_word))\n",
    "\n",
    "    green_letters = answer_pairs & guess_pairs\n",
    "\n",
    "    answer_pairs -= green_letters\n",
    "    guess_pairs -= green_letters\n",
    "\n",
    "    yellow_letters = set()\n",
    "    for guess in guess_pairs:\n",
    "        for answer in answer_pairs:\n",
    "            if guess[1] == answer[1]:\n",
    "                answer_pairs.remove(answer)\n",
    "                yellow_letters.add(guess)\n",
    "                break\n",
    "\n",
    "    gray_letters = guess_pairs - yellow_letters\n",
    "\n",
    "    print_output(guess_word, green_letters, yellow_letters, gray_letters)\n",
    "\n",
    "    if is_right_guess(guess_word,answer_word):\n",
    "        return game_over(\"win\")\n",
    "    if turn_number == GAME_LENGTH:\n",
    "        return game_over(\"lose\")\n",
    "\n"
   ]
  },
  {
   "cell_type": "markdown",
   "metadata": {},
   "source": [
    "Now place your guess by passing it as a string to the `guess_word` method. \n",
    "For example, you can try the following:\n",
    "\n",
    "```\n",
    "guess_word(\"ghost\")\n",
    "```\n",
    "\n",
    "Once you run the cell, for each letter in your guess you will see the following:\n",
    "- `_` if the letter isn't in the answer.\n",
    "- The letter between `()` if it is in the answer word but in another position.\n",
    "- The letter itself when you get it in the right position.\n",
    "\n",
    "For example, if the answer was \"toast\" and you tried \"ghost\", you would get:\n",
    "\n",
    "```_ _ (o) s t```\n"
   ]
  },
  {
   "cell_type": "code",
   "execution_count": null,
   "metadata": {},
   "outputs": [
    {
     "name": "stdout",
     "output_type": "stream",
     "text": [
      "Too many characters.\n",
      "Try a guess with 5 letters.\n"
     ]
    }
   ],
   "source": [
    "guess_word(\"spring\")"
   ]
  },
  {
   "cell_type": "code",
   "execution_count": null,
   "metadata": {},
   "outputs": [
    {
     "name": "stdout",
     "output_type": "stream",
     "text": [
      "1 :  _ _ _ _ (t)\n",
      "2 : \n",
      "3 : \n",
      "4 : \n",
      "5 : \n"
     ]
    }
   ],
   "source": [
    "guess_word(\"ghost\")"
   ]
  },
  {
   "cell_type": "code",
   "execution_count": null,
   "metadata": {},
   "outputs": [
    {
     "name": "stdout",
     "output_type": "stream",
     "text": [
      "1 :  _ _ _ _ (t)\n",
      "2 :  t r (a) (i) _\n",
      "3 : \n",
      "4 : \n",
      "5 : \n"
     ]
    }
   ],
   "source": [
    "guess_word(\"trail\")"
   ]
  },
  {
   "cell_type": "code",
   "execution_count": null,
   "metadata": {},
   "outputs": [
    {
     "name": "stdout",
     "output_type": "stream",
     "text": [
      "1 :  _ _ _ _ (t)\n",
      "2 :  t r (a) (i) _\n",
      "3 :  t r i a d\n",
      "4 : \n",
      "5 : \n",
      "Congratulations, you guessed it right!\n"
     ]
    }
   ],
   "source": [
    "guess_word(\"triad\")"
   ]
  }
 ],
 "metadata": {
  "language_info": {
   "name": "python"
  },
  "orig_nbformat": 4
 },
 "nbformat": 4,
 "nbformat_minor": 2
}
